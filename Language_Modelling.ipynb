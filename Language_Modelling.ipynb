{
 "cells": [
  {
   "cell_type": "markdown",
   "metadata": {},
   "source": [
    "# Google Colab Setup \n",
    "\n",
    "Please run the code below to mount drive if you are running on colab.\n",
    "\n",
    "Please ignore if you are running on your local machine."
   ]
  },
  {
   "cell_type": "code",
   "execution_count": 1,
   "metadata": {},
   "outputs": [],
   "source": [
    "# from google.colab import drive\n",
    "# drive.mount('/content/drive')"
   ]
  },
  {
   "cell_type": "code",
   "execution_count": 2,
   "metadata": {},
   "outputs": [],
   "source": [
    "# %cd /content/drive/MyDrive/MiniGPT/"
   ]
  },
  {
   "cell_type": "markdown",
   "metadata": {},
   "source": [
    "# Language Modeling and Transformers\n",
    "\n",
    "The project will consist of two broad parts. \n",
    "\n",
    "1. **Baseline Generative Language Model**: We will train a simple Bigram language model on the text data. We will use this model to generate a mini story. \n",
    "2. **Implementing Mini GPT**: We will implement a mini version of the GPT model layer by layer and attempt to train it on the text data. You will then load pretrained weights provided and generate a mini story. "
   ]
  },
  {
   "cell_type": "markdown",
   "metadata": {},
   "source": [
    "## Some general instructions \n",
    "\n",
    "1. Please keep the name of layers consistent with what is requested in the `model.py` file for each layer, this helps us test in each function independently. \n",
    "2. Please check to see if the bias is to be set to false or true for all linear layers (it is mentioned in the doc string)\n",
    "3. As a general rule please read the docstring well, it contains information you will need to write the code. \n",
    "4. All configs are defined in `config.py` for the first part. While you are writing the code, do not change the values in the config file since we use them to test. Once you have passed all the tests please feel free to vary the parameter as you please.\n",
    "5. You will need to fill in `train.py` and run it to train the model. If you are running into memory issues please feel free to change the `batch_size` in the `config.py` file. If you are working on Colab please make sure to use the GPU runtime and feel free to copy over the training code to the notebook. "
   ]
  },
  {
   "cell_type": "code",
   "execution_count": 3,
   "metadata": {},
   "outputs": [
    {
     "name": "stderr",
     "output_type": "stream",
     "text": [
      "ERROR: Invalid requirement: '#'\n"
     ]
    }
   ],
   "source": [
    "!pip install numpy torch tiktoken wandb einops # Install all required packages"
   ]
  },
  {
   "cell_type": "code",
   "execution_count": 4,
   "metadata": {},
   "outputs": [],
   "source": [
    "%load_ext autoreload\n",
    "%autoreload 2"
   ]
  },
  {
   "cell_type": "code",
   "execution_count": 5,
   "metadata": {},
   "outputs": [],
   "source": [
    "import torch\n",
    "import tiktoken"
   ]
  },
  {
   "cell_type": "code",
   "execution_count": 6,
   "metadata": {},
   "outputs": [
    {
     "name": "stdout",
     "output_type": "stream",
     "text": [
      "2.5.1\n",
      "12.1\n",
      "90100\n",
      "True\n"
     ]
    }
   ],
   "source": [
    "import torch\n",
    "print(torch.__version__)\n",
    "print(torch.version.cuda)\n",
    "print(torch.backends.cudnn.version())\n",
    "print(torch.cuda.is_available())\n"
   ]
  },
  {
   "cell_type": "code",
   "execution_count": 7,
   "metadata": {},
   "outputs": [],
   "source": [
    "from model import BigramLanguageModel, SingleHeadAttention, MultiHeadAttention, FeedForwardLayer, LayerNorm, TransformerLayer, MiniGPT\n",
    "from config import BigramConfig, MiniGPTConfig\n",
    "import tests"
   ]
  },
  {
   "cell_type": "code",
   "execution_count": 8,
   "metadata": {},
   "outputs": [
    {
     "name": "stdout",
     "output_type": "stream",
     "text": [
      "cuda\n"
     ]
    }
   ],
   "source": [
    "device = torch.device(\"cuda\" if torch.cuda.is_available() else \"cpu\")\n",
    "print(device)"
   ]
  },
  {
   "cell_type": "code",
   "execution_count": 9,
   "metadata": {},
   "outputs": [],
   "source": [
    "# If not provided, download from https://drive.google.com/file/d/1g09qUM9WibdfQVgkj6IAj8K2S3SGwc91/view?usp=sharing\n",
    "path_to_bigram_tester = \"./pretrained_models/bigram_tester.pt\" # Load the bigram model with name bigram_tester.pt\n",
    "path_to_gpt_tester = \"./pretrained_models/minigpt_tester.pt\" # Load the gpt model with name minigpt_tester.pt"
   ]
  },
  {
   "cell_type": "markdown",
   "metadata": {},
   "source": [
    "##  Bigram Language Model (10 points)\n",
    "\n",
    "A bigram language model is a type of probabilistic language model that predicts a word given the previous word in the sequence. The model is trained on a text corpus and learns the probability of a word given the previous word.\n",
    "\n"
   ]
  },
  {
   "cell_type": "markdown",
   "metadata": {},
   "source": [
    "### Implement the Bigram model (5 points)\n",
    "\n",
    "Please complete the `BigramLanguageModel` class in model.py. We will model a Bigram language model using a simple MLP with one hidden layer. The model will take in the previous word index and output the logits over the vocabulary for the next word."
   ]
  },
  {
   "cell_type": "code",
   "execution_count": 10,
   "metadata": {},
   "outputs": [
    {
     "name": "stderr",
     "output_type": "stream",
     "text": [
      "c:\\UCLA\\239_DeepLearning2\\Project3\\Project3_skeleton\\tests.py:375: FutureWarning: You are using `torch.load` with `weights_only=False` (the current default value), which uses the default pickle module implicitly. It is possible to construct malicious pickle data which will execute arbitrary code during unpickling (See https://github.com/pytorch/pytorch/blob/main/SECURITY.md#untrusted-models for more details). In a future release, the default value for `weights_only` will be flipped to `True`. This limits the functions that could be executed during unpickling. Arbitrary objects will no longer be allowed to be loaded via this mode unless they are explicitly allowlisted by the user via `torch.serialization.add_safe_globals`. We recommend you start setting `weights_only=True` for any use case where you don't have full control of the loaded file. Please open an issue on GitHub for any issues related to this experimental feature.\n",
      "  ckpt = torch.load(checkpoint_file, map_location=device)\n"
     ]
    },
    {
     "data": {
      "text/plain": [
       "'TEST CASE PASSED!!!'"
      ]
     },
     "execution_count": 10,
     "metadata": {},
     "output_type": "execute_result"
    }
   ],
   "source": [
    "# Test implementation for Bigram Language Model\n",
    "model = BigramLanguageModel(BigramConfig)\n",
    "tests.check_bigram(model, path_to_bigram_tester, device)"
   ]
  },
  {
   "cell_type": "markdown",
   "metadata": {},
   "source": [
    "### Training the Bigram Language Model (2.5 points)\n",
    "\n",
    "Complete the code in `train.py` to train the Bigram language model on the text data. Please provide plots for both the training and validation in the cell below.\n",
    "\n",
    "Some notes on the training process:\n",
    "\n",
    "1. You should be able to train the model slowly on your local machine.\n",
    "2. Training it on Colab will help with speed.\n",
    "3.  <span style=\"color:red\">To get full points for this section it is sufficient to show that the loss is decreasing over time</span>. You should see it saturate to a value close to around 5-6 but as long as you see it decreasing then saturating you should be good.\n",
    "4. Please log the loss curves either on wandb, tensorboard or any other logger of your choice and please attach them below."
   ]
  },
  {
   "cell_type": "code",
   "execution_count": 11,
   "metadata": {},
   "outputs": [],
   "source": [
    "from train import solver"
   ]
  },
  {
   "cell_type": "code",
   "execution_count": 12,
   "metadata": {},
   "outputs": [
    {
     "name": "stdout",
     "output_type": "stream",
     "text": [
      "number of trainable parameters: 3.27M\n"
     ]
    },
    {
     "name": "stderr",
     "output_type": "stream",
     "text": [
      "\u001b[34m\u001b[1mwandb\u001b[0m: Currently logged in as: \u001b[33mlyuchenandy\u001b[0m (\u001b[33mlyuchenandy-ucla\u001b[0m) to \u001b[32mhttps://api.wandb.ai\u001b[0m. Use \u001b[1m`wandb login --relogin`\u001b[0m to force relogin\n"
     ]
    },
    {
     "data": {
      "text/html": [
       "Tracking run with wandb version 0.19.11"
      ],
      "text/plain": [
       "<IPython.core.display.HTML object>"
      ]
     },
     "metadata": {},
     "output_type": "display_data"
    },
    {
     "data": {
      "text/html": [
       "Run data is saved locally in <code>c:\\UCLA\\239_DeepLearning2\\Project3\\Project3_skeleton\\wandb\\run-20250512_003348-lmu3jo6j</code>"
      ],
      "text/plain": [
       "<IPython.core.display.HTML object>"
      ]
     },
     "metadata": {},
     "output_type": "display_data"
    },
    {
     "data": {
      "text/html": [
       "Syncing run <strong><a href='https://wandb.ai/lyuchenandy-ucla/dl2_proj3/runs/lmu3jo6j' target=\"_blank\">decent-gorge-39</a></strong> to <a href='https://wandb.ai/lyuchenandy-ucla/dl2_proj3' target=\"_blank\">Weights & Biases</a> (<a href='https://wandb.me/developer-guide' target=\"_blank\">docs</a>)<br>"
      ],
      "text/plain": [
       "<IPython.core.display.HTML object>"
      ]
     },
     "metadata": {},
     "output_type": "display_data"
    },
    {
     "data": {
      "text/html": [
       " View project at <a href='https://wandb.ai/lyuchenandy-ucla/dl2_proj3' target=\"_blank\">https://wandb.ai/lyuchenandy-ucla/dl2_proj3</a>"
      ],
      "text/plain": [
       "<IPython.core.display.HTML object>"
      ]
     },
     "metadata": {},
     "output_type": "display_data"
    },
    {
     "data": {
      "text/html": [
       " View run at <a href='https://wandb.ai/lyuchenandy-ucla/dl2_proj3/runs/lmu3jo6j' target=\"_blank\">https://wandb.ai/lyuchenandy-ucla/dl2_proj3/runs/lmu3jo6j</a>"
      ],
      "text/plain": [
       "<IPython.core.display.HTML object>"
      ]
     },
     "metadata": {},
     "output_type": "display_data"
    },
    {
     "name": "stdout",
     "output_type": "stream",
     "text": [
      "Iteration 0, Train Loss: 10.8250 Eval Loss: 10.8252\n",
      "Iteration 1000, Train Loss: 10.2411 Eval Loss: 10.2506\n",
      "Iteration 2000, Train Loss: 9.1736 Eval Loss: 8.9498\n",
      "Iteration 3000, Train Loss: 8.2684 Eval Loss: 7.8110\n",
      "Iteration 4000, Train Loss: 7.4470 Eval Loss: 7.1374\n",
      "Iteration 5000, Train Loss: 7.5873 Eval Loss: 6.7797\n",
      "Iteration 6000, Train Loss: 7.1636 Eval Loss: 6.5528\n",
      "Iteration 7000, Train Loss: 6.7754 Eval Loss: 6.3833\n",
      "Iteration 8000, Train Loss: 6.4607 Eval Loss: 6.2495\n",
      "Iteration 9000, Train Loss: 7.0114 Eval Loss: 6.1298\n",
      "Iteration 10000, Train Loss: 6.8780 Eval Loss: 6.0170\n",
      "Iteration 11000, Train Loss: 6.8777 Eval Loss: 5.9122\n",
      "Iteration 12000, Train Loss: 6.6049 Eval Loss: 5.8133\n",
      "Iteration 13000, Train Loss: 6.5302 Eval Loss: 5.7134\n",
      "Iteration 14000, Train Loss: 6.2312 Eval Loss: 5.6170\n",
      "Iteration 15000, Train Loss: 5.9984 Eval Loss: 5.5176\n",
      "Iteration 16000, Train Loss: 6.1539 Eval Loss: 5.4235\n",
      "Iteration 17000, Train Loss: 5.8295 Eval Loss: 5.3291\n",
      "Iteration 18000, Train Loss: 5.8983 Eval Loss: 5.2356\n",
      "Iteration 19000, Train Loss: 5.7420 Eval Loss: 5.1542\n",
      "Iteration 20000, Train Loss: 5.7656 Eval Loss: 5.0755\n",
      "Iteration 21000, Train Loss: 6.2102 Eval Loss: 5.0013\n",
      "Iteration 22000, Train Loss: 5.5202 Eval Loss: 4.9349\n",
      "Iteration 23000, Train Loss: 5.5412 Eval Loss: 4.8727\n",
      "Iteration 24000, Train Loss: 5.1138 Eval Loss: 4.8164\n",
      "Iteration 25000, Train Loss: 5.1115 Eval Loss: 4.7609\n",
      "Iteration 26000, Train Loss: 5.2718 Eval Loss: 4.7149\n",
      "Iteration 27000, Train Loss: 5.3467 Eval Loss: 4.6698\n",
      "Iteration 28000, Train Loss: 5.0378 Eval Loss: 4.6322\n",
      "Iteration 29000, Train Loss: 5.7173 Eval Loss: 4.5958\n",
      "Iteration 30000, Train Loss: 5.6546 Eval Loss: 4.5615\n",
      "Iteration 31000, Train Loss: 4.7925 Eval Loss: 4.5321\n",
      "Iteration 32000, Train Loss: 5.2156 Eval Loss: 4.5065\n",
      "Iteration 33000, Train Loss: 5.6686 Eval Loss: 4.4814\n",
      "Iteration 34000, Train Loss: 5.3103 Eval Loss: 4.4527\n",
      "Iteration 35000, Train Loss: 5.0172 Eval Loss: 4.4305\n",
      "Iteration 36000, Train Loss: 5.2973 Eval Loss: 4.4061\n",
      "Iteration 37000, Train Loss: 4.8293 Eval Loss: 4.3862\n",
      "Iteration 38000, Train Loss: 4.6023 Eval Loss: 4.3683\n",
      "Iteration 39000, Train Loss: 5.0909 Eval Loss: 4.3480\n",
      "Iteration 40000, Train Loss: 4.7186 Eval Loss: 4.3297\n",
      "Iteration 41000, Train Loss: 5.1536 Eval Loss: 4.3077\n",
      "Iteration 42000, Train Loss: 4.5667 Eval Loss: 4.2936\n",
      "Iteration 43000, Train Loss: 4.8869 Eval Loss: 4.2799\n",
      "Iteration 44000, Train Loss: 4.3787 Eval Loss: 4.2635\n",
      "Iteration 45000, Train Loss: 4.7538 Eval Loss: 4.2473\n",
      "Iteration 46000, Train Loss: 4.6593 Eval Loss: 4.2372\n",
      "Iteration 47000, Train Loss: 4.5617 Eval Loss: 4.2205\n",
      "Iteration 48000, Train Loss: 4.9703 Eval Loss: 4.2097\n",
      "Iteration 49000, Train Loss: 4.5059 Eval Loss: 4.1997\n",
      "Iteration 50000, Train Loss: 4.8771 Eval Loss: 4.1840\n",
      "Iteration 51000, Train Loss: 5.0304 Eval Loss: 4.1772\n",
      "Iteration 52000, Train Loss: 4.8190 Eval Loss: 4.1643\n",
      "Iteration 53000, Train Loss: 5.1274 Eval Loss: 4.1558\n",
      "Iteration 54000, Train Loss: 4.5686 Eval Loss: 4.1441\n",
      "Iteration 55000, Train Loss: 4.8453 Eval Loss: 4.1353\n",
      "Iteration 56000, Train Loss: 4.8070 Eval Loss: 4.1295\n",
      "Iteration 57000, Train Loss: 5.0593 Eval Loss: 4.1183\n",
      "Iteration 58000, Train Loss: 4.6097 Eval Loss: 4.1083\n",
      "Iteration 59000, Train Loss: 4.7897 Eval Loss: 4.1053\n",
      "Iteration 60000, Train Loss: 5.2573 Eval Loss: 4.0949\n",
      "Iteration 61000, Train Loss: 4.4263 Eval Loss: 4.0855\n",
      "Iteration 62000, Train Loss: 4.9318 Eval Loss: 4.0796\n",
      "Iteration 63000, Train Loss: 4.6404 Eval Loss: 4.0735\n",
      "Iteration 64000, Train Loss: 4.7882 Eval Loss: 4.0645\n",
      "Iteration 65000, Train Loss: 4.6404 Eval Loss: 4.0580\n",
      "Iteration 66000, Train Loss: 4.4720 Eval Loss: 4.0529\n",
      "Iteration 67000, Train Loss: 4.7134 Eval Loss: 4.0476\n",
      "Iteration 68000, Train Loss: 4.5307 Eval Loss: 4.0396\n",
      "Iteration 69000, Train Loss: 4.8568 Eval Loss: 4.0335\n",
      "Iteration 70000, Train Loss: 4.8115 Eval Loss: 4.0283\n",
      "Iteration 71000, Train Loss: 4.6537 Eval Loss: 4.0247\n",
      "Iteration 72000, Train Loss: 4.6538 Eval Loss: 4.0184\n",
      "Iteration 73000, Train Loss: 5.1457 Eval Loss: 4.0127\n",
      "Iteration 74000, Train Loss: 5.1559 Eval Loss: 4.0055\n",
      "Iteration 75000, Train Loss: 4.3827 Eval Loss: 4.0026\n",
      "Iteration 76000, Train Loss: 4.7708 Eval Loss: 3.9966\n",
      "Iteration 77000, Train Loss: 5.0507 Eval Loss: 3.9920\n",
      "Iteration 78000, Train Loss: 4.1160 Eval Loss: 3.9881\n",
      "Iteration 79000, Train Loss: 4.8739 Eval Loss: 3.9832\n",
      "Iteration 80000, Train Loss: 4.6106 Eval Loss: 3.9804\n",
      "Iteration 81000, Train Loss: 4.9023 Eval Loss: 3.9743\n",
      "Iteration 82000, Train Loss: 4.6195 Eval Loss: 3.9694\n",
      "Iteration 83000, Train Loss: 4.7514 Eval Loss: 3.9670\n",
      "Iteration 84000, Train Loss: 4.6213 Eval Loss: 3.9614\n",
      "Iteration 85000, Train Loss: 5.2731 Eval Loss: 3.9585\n",
      "Iteration 86000, Train Loss: 4.5558 Eval Loss: 3.9523\n",
      "Iteration 87000, Train Loss: 4.6593 Eval Loss: 3.9520\n",
      "Iteration 88000, Train Loss: 4.0633 Eval Loss: 3.9445\n",
      "Iteration 89000, Train Loss: 4.7862 Eval Loss: 3.9428\n",
      "Iteration 90000, Train Loss: 4.4958 Eval Loss: 3.9391\n",
      "Iteration 91000, Train Loss: 4.5460 Eval Loss: 3.9353\n",
      "Iteration 92000, Train Loss: 4.3172 Eval Loss: 3.9329\n",
      "Iteration 93000, Train Loss: 4.1272 Eval Loss: 3.9289\n",
      "Iteration 94000, Train Loss: 4.7992 Eval Loss: 3.9247\n",
      "Iteration 95000, Train Loss: 4.7438 Eval Loss: 3.9238\n",
      "Iteration 96000, Train Loss: 4.8296 Eval Loss: 3.9207\n",
      "Iteration 97000, Train Loss: 4.7935 Eval Loss: 3.9167\n",
      "Iteration 98000, Train Loss: 4.2339 Eval Loss: 3.9147\n",
      "Iteration 99000, Train Loss: 4.1124 Eval Loss: 3.9107\n",
      "Iteration 100000, Train Loss: 4.3282 Eval Loss: 3.9059\n",
      "Iteration 101000, Train Loss: 4.3484 Eval Loss: 3.9058\n",
      "Iteration 102000, Train Loss: 4.8374 Eval Loss: 3.9037\n",
      "Iteration 103000, Train Loss: 4.5755 Eval Loss: 3.8977\n",
      "Iteration 104000, Train Loss: 4.9105 Eval Loss: 3.8986\n",
      "Iteration 105000, Train Loss: 4.9217 Eval Loss: 3.8955\n",
      "Iteration 106000, Train Loss: 4.6285 Eval Loss: 3.8928\n",
      "Iteration 107000, Train Loss: 4.0961 Eval Loss: 3.8916\n",
      "Iteration 108000, Train Loss: 4.3272 Eval Loss: 3.8883\n",
      "Iteration 109000, Train Loss: 4.1287 Eval Loss: 3.8853\n",
      "Iteration 110000, Train Loss: 4.9097 Eval Loss: 3.8821\n",
      "Iteration 111000, Train Loss: 4.7780 Eval Loss: 3.8803\n",
      "Iteration 112000, Train Loss: 4.7352 Eval Loss: 3.8782\n",
      "Iteration 113000, Train Loss: 4.4687 Eval Loss: 3.8732\n",
      "Iteration 114000, Train Loss: 4.4964 Eval Loss: 3.8722\n",
      "Iteration 115000, Train Loss: 4.8845 Eval Loss: 3.8710\n",
      "Iteration 116000, Train Loss: 4.6601 Eval Loss: 3.8705\n",
      "Iteration 117000, Train Loss: 4.2447 Eval Loss: 3.8655\n",
      "Iteration 118000, Train Loss: 4.8363 Eval Loss: 3.8650\n",
      "Iteration 119000, Train Loss: 4.8593 Eval Loss: 3.8612\n",
      "Iteration 120000, Train Loss: 4.2281 Eval Loss: 3.8595\n",
      "Iteration 121000, Train Loss: 4.3501 Eval Loss: 3.8571\n",
      "Iteration 122000, Train Loss: 4.4049 Eval Loss: 3.8585\n",
      "Iteration 123000, Train Loss: 4.5461 Eval Loss: 3.8563\n",
      "Iteration 124000, Train Loss: 4.5709 Eval Loss: 3.8548\n",
      "Iteration 125000, Train Loss: 4.5289 Eval Loss: 3.8524\n",
      "Iteration 126000, Train Loss: 4.5750 Eval Loss: 3.8490\n",
      "Iteration 127000, Train Loss: 4.4854 Eval Loss: 3.8497\n",
      "Iteration 128000, Train Loss: 4.2727 Eval Loss: 3.8454\n",
      "Iteration 129000, Train Loss: 4.2149 Eval Loss: 3.8460\n",
      "Iteration 130000, Train Loss: 4.1777 Eval Loss: 3.8455\n",
      "Iteration 131000, Train Loss: 4.2304 Eval Loss: 3.8430\n",
      "Iteration 132000, Train Loss: 4.8215 Eval Loss: 3.8402\n",
      "Iteration 133000, Train Loss: 4.8292 Eval Loss: 3.8383\n",
      "Iteration 134000, Train Loss: 4.4895 Eval Loss: 3.8353\n",
      "Iteration 135000, Train Loss: 4.2914 Eval Loss: 3.8344\n",
      "Iteration 136000, Train Loss: 4.7924 Eval Loss: 3.8324\n",
      "Iteration 137000, Train Loss: 5.0429 Eval Loss: 3.8337\n",
      "Iteration 138000, Train Loss: 4.6502 Eval Loss: 3.8298\n",
      "Iteration 139000, Train Loss: 4.8329 Eval Loss: 3.8305\n",
      "Iteration 140000, Train Loss: 4.1426 Eval Loss: 3.8268\n",
      "Iteration 141000, Train Loss: 4.3863 Eval Loss: 3.8256\n",
      "Iteration 142000, Train Loss: 4.2012 Eval Loss: 3.8266\n",
      "Iteration 143000, Train Loss: 4.6744 Eval Loss: 3.8223\n",
      "Iteration 144000, Train Loss: 4.6232 Eval Loss: 3.8233\n",
      "Iteration 145000, Train Loss: 4.5746 Eval Loss: 3.8198\n",
      "Iteration 146000, Train Loss: 3.8459 Eval Loss: 3.8159\n",
      "Iteration 147000, Train Loss: 4.7806 Eval Loss: 3.8163\n",
      "Iteration 148000, Train Loss: 4.3555 Eval Loss: 3.8179\n",
      "Iteration 149000, Train Loss: 4.5025 Eval Loss: 3.8144\n",
      "Iteration 150000, Train Loss: 4.1528 Eval Loss: 3.8150\n",
      "Iteration 151000, Train Loss: 4.2781 Eval Loss: 3.8142\n",
      "Iteration 152000, Train Loss: 4.4084 Eval Loss: 3.8124\n",
      "Iteration 153000, Train Loss: 4.2317 Eval Loss: 3.8107\n",
      "Iteration 154000, Train Loss: 4.3935 Eval Loss: 3.8080\n",
      "Iteration 155000, Train Loss: 4.2781 Eval Loss: 3.8067\n",
      "Iteration 156000, Train Loss: 4.5677 Eval Loss: 3.8060\n",
      "Iteration 157000, Train Loss: 4.7338 Eval Loss: 3.8047\n",
      "Iteration 158000, Train Loss: 4.2271 Eval Loss: 3.8016\n",
      "Iteration 159000, Train Loss: 4.4614 Eval Loss: 3.8011\n",
      "Iteration 160000, Train Loss: 4.1996 Eval Loss: 3.7996\n",
      "Iteration 161000, Train Loss: 4.5410 Eval Loss: 3.8007\n",
      "Iteration 162000, Train Loss: 4.6312 Eval Loss: 3.7968\n",
      "Iteration 163000, Train Loss: 4.7083 Eval Loss: 3.7950\n",
      "Iteration 164000, Train Loss: 4.3533 Eval Loss: 3.7965\n",
      "Iteration 165000, Train Loss: 4.3858 Eval Loss: 3.7956\n",
      "Iteration 166000, Train Loss: 3.9799 Eval Loss: 3.7934\n",
      "Iteration 167000, Train Loss: 4.5500 Eval Loss: 3.7957\n",
      "Iteration 168000, Train Loss: 4.7490 Eval Loss: 3.7932\n",
      "Iteration 169000, Train Loss: 4.1924 Eval Loss: 3.7912\n",
      "Iteration 170000, Train Loss: 4.5761 Eval Loss: 3.7917\n",
      "Iteration 171000, Train Loss: 4.5349 Eval Loss: 3.7899\n",
      "Iteration 172000, Train Loss: 4.1616 Eval Loss: 3.7894\n",
      "Iteration 173000, Train Loss: 4.6325 Eval Loss: 3.7883\n",
      "Iteration 174000, Train Loss: 4.8089 Eval Loss: 3.7877\n",
      "Iteration 175000, Train Loss: 4.9378 Eval Loss: 3.7842\n",
      "Iteration 176000, Train Loss: 4.7792 Eval Loss: 3.7844\n",
      "Iteration 177000, Train Loss: 4.5931 Eval Loss: 3.7841\n",
      "Iteration 178000, Train Loss: 4.0394 Eval Loss: 3.7830\n",
      "Iteration 179000, Train Loss: 4.7824 Eval Loss: 3.7823\n",
      "Iteration 180000, Train Loss: 4.4514 Eval Loss: 3.7816\n",
      "Iteration 181000, Train Loss: 4.0007 Eval Loss: 3.7810\n",
      "Iteration 182000, Train Loss: 4.8198 Eval Loss: 3.7813\n",
      "Iteration 183000, Train Loss: 4.6796 Eval Loss: 3.7780\n",
      "Iteration 184000, Train Loss: 4.3897 Eval Loss: 3.7770\n",
      "Iteration 185000, Train Loss: 4.7260 Eval Loss: 3.7758\n",
      "Iteration 186000, Train Loss: 4.3785 Eval Loss: 3.7746\n",
      "Iteration 187000, Train Loss: 4.5971 Eval Loss: 3.7734\n",
      "Iteration 188000, Train Loss: 4.3524 Eval Loss: 3.7735\n",
      "Iteration 189000, Train Loss: 4.6207 Eval Loss: 3.7713\n",
      "Iteration 190000, Train Loss: 4.2371 Eval Loss: 3.7708\n",
      "Iteration 191000, Train Loss: 4.3751 Eval Loss: 3.7711\n",
      "Iteration 192000, Train Loss: 3.8714 Eval Loss: 3.7702\n",
      "Iteration 193000, Train Loss: 5.0715 Eval Loss: 3.7702\n",
      "Iteration 194000, Train Loss: 4.7837 Eval Loss: 3.7689\n",
      "Iteration 195000, Train Loss: 3.9499 Eval Loss: 3.7677\n",
      "Iteration 196000, Train Loss: 4.1251 Eval Loss: 3.7671\n",
      "Iteration 197000, Train Loss: 3.9824 Eval Loss: 3.7656\n",
      "Iteration 198000, Train Loss: 4.4102 Eval Loss: 3.7633\n",
      "Iteration 199000, Train Loss: 4.4398 Eval Loss: 3.7636\n",
      "Iteration 200000, Train Loss: 4.5093 Eval Loss: 3.7655\n",
      "Iteration 201000, Train Loss: 4.3603 Eval Loss: 3.7635\n",
      "Iteration 202000, Train Loss: 4.2920 Eval Loss: 3.7636\n",
      "Iteration 203000, Train Loss: 4.4609 Eval Loss: 3.7628\n",
      "Iteration 204000, Train Loss: 4.1076 Eval Loss: 3.7604\n",
      "Iteration 205000, Train Loss: 4.7325 Eval Loss: 3.7609\n",
      "Iteration 206000, Train Loss: 4.1942 Eval Loss: 3.7615\n",
      "Iteration 207000, Train Loss: 4.3120 Eval Loss: 3.7592\n",
      "Iteration 208000, Train Loss: 4.1521 Eval Loss: 3.7573\n",
      "Iteration 209000, Train Loss: 3.8243 Eval Loss: 3.7579\n",
      "Iteration 210000, Train Loss: 4.2289 Eval Loss: 3.7550\n",
      "Iteration 211000, Train Loss: 4.2664 Eval Loss: 3.7552\n",
      "Iteration 212000, Train Loss: 4.2810 Eval Loss: 3.7553\n",
      "Iteration 213000, Train Loss: 4.2081 Eval Loss: 3.7570\n",
      "Iteration 214000, Train Loss: 4.4892 Eval Loss: 3.7546\n",
      "Iteration 215000, Train Loss: 4.2419 Eval Loss: 3.7535\n",
      "Iteration 216000, Train Loss: 4.4588 Eval Loss: 3.7544\n",
      "Iteration 217000, Train Loss: 4.5359 Eval Loss: 3.7517\n",
      "Iteration 218000, Train Loss: 4.0825 Eval Loss: 3.7494\n",
      "Iteration 219000, Train Loss: 4.4927 Eval Loss: 3.7512\n",
      "Iteration 220000, Train Loss: 4.7919 Eval Loss: 3.7505\n",
      "Iteration 221000, Train Loss: 4.4595 Eval Loss: 3.7500\n",
      "Iteration 222000, Train Loss: 4.4916 Eval Loss: 3.7484\n",
      "Iteration 223000, Train Loss: 4.3082 Eval Loss: 3.7487\n",
      "Iteration 224000, Train Loss: 4.2763 Eval Loss: 3.7477\n",
      "Iteration 225000, Train Loss: 4.8142 Eval Loss: 3.7472\n",
      "Iteration 226000, Train Loss: 4.4718 Eval Loss: 3.7471\n",
      "Iteration 227000, Train Loss: 4.4383 Eval Loss: 3.7460\n",
      "Iteration 228000, Train Loss: 3.9858 Eval Loss: 3.7433\n",
      "Iteration 229000, Train Loss: 4.3412 Eval Loss: 3.7435\n",
      "Iteration 230000, Train Loss: 4.5438 Eval Loss: 3.7442\n",
      "Iteration 231000, Train Loss: 4.2830 Eval Loss: 3.7417\n",
      "Iteration 232000, Train Loss: 4.5132 Eval Loss: 3.7419\n",
      "Iteration 233000, Train Loss: 4.4200 Eval Loss: 3.7444\n",
      "Iteration 234000, Train Loss: 4.5651 Eval Loss: 3.7425\n",
      "Iteration 235000, Train Loss: 4.5372 Eval Loss: 3.7403\n",
      "Iteration 236000, Train Loss: 3.6735 Eval Loss: 3.7416\n",
      "Iteration 237000, Train Loss: 4.5671 Eval Loss: 3.7401\n",
      "Iteration 238000, Train Loss: 4.7148 Eval Loss: 3.7383\n",
      "Iteration 239000, Train Loss: 4.2406 Eval Loss: 3.7375\n",
      "Iteration 240000, Train Loss: 4.3804 Eval Loss: 3.7414\n",
      "Iteration 241000, Train Loss: 4.0007 Eval Loss: 3.7411\n",
      "Iteration 242000, Train Loss: 5.0297 Eval Loss: 3.7379\n",
      "Iteration 243000, Train Loss: 4.5237 Eval Loss: 3.7377\n",
      "Iteration 244000, Train Loss: 3.9462 Eval Loss: 3.7379\n",
      "Iteration 245000, Train Loss: 3.9826 Eval Loss: 3.7368\n",
      "Iteration 246000, Train Loss: 4.5543 Eval Loss: 3.7366\n",
      "Iteration 247000, Train Loss: 4.2307 Eval Loss: 3.7353\n",
      "Iteration 248000, Train Loss: 4.0302 Eval Loss: 3.7340\n",
      "Iteration 249000, Train Loss: 4.5505 Eval Loss: 3.7334\n",
      "Iteration 250000, Train Loss: 4.0144 Eval Loss: 3.7323\n",
      "Iteration 251000, Train Loss: 4.4830 Eval Loss: 3.7328\n",
      "Iteration 252000, Train Loss: 4.4746 Eval Loss: 3.7313\n",
      "Iteration 253000, Train Loss: 4.2590 Eval Loss: 3.7337\n",
      "Iteration 254000, Train Loss: 4.1594 Eval Loss: 3.7316\n",
      "Iteration 255000, Train Loss: 5.2400 Eval Loss: 3.7298\n",
      "Iteration 256000, Train Loss: 4.8241 Eval Loss: 3.7305\n",
      "Iteration 257000, Train Loss: 4.7003 Eval Loss: 3.7312\n",
      "Iteration 258000, Train Loss: 4.0848 Eval Loss: 3.7299\n",
      "Iteration 259000, Train Loss: 4.2321 Eval Loss: 3.7265\n",
      "Iteration 260000, Train Loss: 4.7986 Eval Loss: 3.7290\n",
      "Iteration 261000, Train Loss: 4.4652 Eval Loss: 3.7298\n",
      "Iteration 262000, Train Loss: 4.4637 Eval Loss: 3.7279\n",
      "Iteration 263000, Train Loss: 4.3853 Eval Loss: 3.7272\n",
      "Iteration 264000, Train Loss: 4.0502 Eval Loss: 3.7261\n",
      "Iteration 265000, Train Loss: 4.3678 Eval Loss: 3.7250\n",
      "Iteration 266000, Train Loss: 4.1717 Eval Loss: 3.7263\n",
      "Iteration 267000, Train Loss: 3.6527 Eval Loss: 3.7252\n",
      "Iteration 268000, Train Loss: 4.7848 Eval Loss: 3.7252\n",
      "Iteration 269000, Train Loss: 4.6937 Eval Loss: 3.7247\n",
      "Iteration 270000, Train Loss: 3.9548 Eval Loss: 3.7225\n",
      "Iteration 271000, Train Loss: 4.5999 Eval Loss: 3.7212\n",
      "Iteration 272000, Train Loss: 4.6844 Eval Loss: 3.7219\n",
      "Iteration 273000, Train Loss: 4.7727 Eval Loss: 3.7216\n",
      "Iteration 274000, Train Loss: 4.5295 Eval Loss: 3.7227\n",
      "Iteration 275000, Train Loss: 4.5908 Eval Loss: 3.7223\n",
      "Iteration 276000, Train Loss: 3.8201 Eval Loss: 3.7213\n",
      "Iteration 277000, Train Loss: 4.2817 Eval Loss: 3.7219\n",
      "Iteration 278000, Train Loss: 4.4964 Eval Loss: 3.7210\n",
      "Iteration 279000, Train Loss: 4.5476 Eval Loss: 3.7213\n",
      "Iteration 280000, Train Loss: 4.8553 Eval Loss: 3.7200\n",
      "Iteration 281000, Train Loss: 4.3374 Eval Loss: 3.7196\n",
      "Iteration 282000, Train Loss: 5.0884 Eval Loss: 3.7202\n",
      "Iteration 283000, Train Loss: 3.9517 Eval Loss: 3.7180\n",
      "Iteration 284000, Train Loss: 4.2047 Eval Loss: 3.7207\n",
      "Iteration 285000, Train Loss: 4.5336 Eval Loss: 3.7187\n",
      "Iteration 286000, Train Loss: 4.4170 Eval Loss: 3.7174\n",
      "Iteration 287000, Train Loss: 4.1007 Eval Loss: 3.7174\n",
      "Iteration 288000, Train Loss: 4.4501 Eval Loss: 3.7192\n",
      "Iteration 289000, Train Loss: 4.6858 Eval Loss: 3.7172\n",
      "Iteration 290000, Train Loss: 4.0460 Eval Loss: 3.7162\n",
      "Iteration 291000, Train Loss: 4.6185 Eval Loss: 3.7145\n",
      "Iteration 292000, Train Loss: 4.2675 Eval Loss: 3.7160\n",
      "Iteration 293000, Train Loss: 4.6644 Eval Loss: 3.7153\n",
      "Iteration 294000, Train Loss: 4.7874 Eval Loss: 3.7156\n",
      "Iteration 295000, Train Loss: 4.2452 Eval Loss: 3.7145\n",
      "Iteration 296000, Train Loss: 3.7996 Eval Loss: 3.7145\n",
      "Iteration 297000, Train Loss: 4.2763 Eval Loss: 3.7144\n",
      "Iteration 298000, Train Loss: 4.6998 Eval Loss: 3.7124\n",
      "Iteration 299000, Train Loss: 4.7586 Eval Loss: 3.7079\n",
      "Iteration 300000, Train Loss: 4.4206 Eval Loss: 3.7126\n",
      "Iteration 301000, Train Loss: 5.0520 Eval Loss: 3.7107\n",
      "Iteration 302000, Train Loss: 4.5895 Eval Loss: 3.7114\n",
      "Iteration 303000, Train Loss: 3.5771 Eval Loss: 3.7114\n",
      "Iteration 304000, Train Loss: 3.8561 Eval Loss: 3.7112\n",
      "Iteration 305000, Train Loss: 4.5149 Eval Loss: 3.7104\n",
      "Iteration 306000, Train Loss: 4.3077 Eval Loss: 3.7098\n",
      "Iteration 307000, Train Loss: 4.1117 Eval Loss: 3.7114\n",
      "Iteration 308000, Train Loss: 4.4467 Eval Loss: 3.7094\n",
      "Iteration 309000, Train Loss: 5.0462 Eval Loss: 3.7105\n",
      "Iteration 310000, Train Loss: 3.9581 Eval Loss: 3.7098\n",
      "Iteration 311000, Train Loss: 3.8061 Eval Loss: 3.7095\n",
      "Iteration 312000, Train Loss: 4.4891 Eval Loss: 3.7094\n",
      "Iteration 313000, Train Loss: 4.4026 Eval Loss: 3.7076\n",
      "Iteration 314000, Train Loss: 4.0237 Eval Loss: 3.7077\n",
      "Iteration 315000, Train Loss: 4.2392 Eval Loss: 3.7077\n",
      "Iteration 316000, Train Loss: 4.4638 Eval Loss: 3.7056\n",
      "Iteration 317000, Train Loss: 4.4877 Eval Loss: 3.7076\n",
      "Iteration 318000, Train Loss: 4.3663 Eval Loss: 3.7073\n",
      "Iteration 319000, Train Loss: 4.8977 Eval Loss: 3.7045\n",
      "Iteration 320000, Train Loss: 4.9001 Eval Loss: 3.7056\n",
      "Iteration 321000, Train Loss: 4.4258 Eval Loss: 3.7049\n",
      "Iteration 322000, Train Loss: 3.8436 Eval Loss: 3.7046\n",
      "Iteration 323000, Train Loss: 4.3109 Eval Loss: 3.7070\n",
      "Iteration 324000, Train Loss: 3.8141 Eval Loss: 3.7043\n",
      "Iteration 325000, Train Loss: 4.3280 Eval Loss: 3.7045\n",
      "Iteration 326000, Train Loss: 4.5632 Eval Loss: 3.7039\n",
      "Iteration 327000, Train Loss: 4.7981 Eval Loss: 3.7057\n",
      "Iteration 328000, Train Loss: 4.2433 Eval Loss: 3.7043\n",
      "Iteration 329000, Train Loss: 4.4395 Eval Loss: 3.7044\n",
      "Iteration 330000, Train Loss: 4.5843 Eval Loss: 3.7036\n",
      "Iteration 331000, Train Loss: 4.6050 Eval Loss: 3.7038\n",
      "Iteration 332000, Train Loss: 3.6963 Eval Loss: 3.7014\n",
      "Iteration 333000, Train Loss: 4.4813 Eval Loss: 3.7033\n",
      "Iteration 334000, Train Loss: 4.6630 Eval Loss: 3.6992\n",
      "Iteration 335000, Train Loss: 4.2389 Eval Loss: 3.7040\n",
      "Iteration 336000, Train Loss: 4.1737 Eval Loss: 3.7020\n",
      "Iteration 337000, Train Loss: 4.4562 Eval Loss: 3.7001\n",
      "Iteration 338000, Train Loss: 4.2566 Eval Loss: 3.7000\n",
      "Iteration 339000, Train Loss: 4.3278 Eval Loss: 3.6990\n",
      "Iteration 340000, Train Loss: 4.4007 Eval Loss: 3.6990\n",
      "Iteration 341000, Train Loss: 4.2615 Eval Loss: 3.7016\n",
      "Iteration 342000, Train Loss: 3.9296 Eval Loss: 3.6981\n",
      "Iteration 343000, Train Loss: 4.4270 Eval Loss: 3.6991\n",
      "Iteration 344000, Train Loss: 4.3474 Eval Loss: 3.6991\n",
      "Iteration 345000, Train Loss: 4.3642 Eval Loss: 3.6987\n",
      "Iteration 346000, Train Loss: 4.5815 Eval Loss: 3.7006\n",
      "Iteration 347000, Train Loss: 4.7493 Eval Loss: 3.6973\n",
      "Iteration 348000, Train Loss: 4.5007 Eval Loss: 3.6978\n",
      "Iteration 349000, Train Loss: 4.5502 Eval Loss: 3.6960\n",
      "Iteration 350000, Train Loss: 4.7149 Eval Loss: 3.7003\n",
      "Iteration 351000, Train Loss: 4.1832 Eval Loss: 3.6983\n",
      "Iteration 352000, Train Loss: 4.2158 Eval Loss: 3.6963\n",
      "Iteration 353000, Train Loss: 3.9876 Eval Loss: 3.6965\n",
      "Iteration 354000, Train Loss: 4.7059 Eval Loss: 3.6971\n",
      "Iteration 355000, Train Loss: 4.7422 Eval Loss: 3.6959\n",
      "Iteration 356000, Train Loss: 4.0437 Eval Loss: 3.6981\n",
      "Iteration 357000, Train Loss: 3.9914 Eval Loss: 3.6962\n",
      "Iteration 358000, Train Loss: 4.1450 Eval Loss: 3.6967\n",
      "Iteration 359000, Train Loss: 4.0365 Eval Loss: 3.6969\n",
      "Iteration 360000, Train Loss: 4.3049 Eval Loss: 3.6956\n",
      "Iteration 361000, Train Loss: 4.9681 Eval Loss: 3.6937\n",
      "Iteration 362000, Train Loss: 4.4349 Eval Loss: 3.6952\n",
      "Iteration 363000, Train Loss: 4.2617 Eval Loss: 3.6925\n",
      "Iteration 364000, Train Loss: 4.1389 Eval Loss: 3.6959\n",
      "Iteration 365000, Train Loss: 4.6164 Eval Loss: 3.6934\n",
      "Iteration 366000, Train Loss: 4.5571 Eval Loss: 3.6940\n",
      "Iteration 367000, Train Loss: 4.3811 Eval Loss: 3.6932\n",
      "Iteration 368000, Train Loss: 4.8580 Eval Loss: 3.6921\n",
      "Iteration 369000, Train Loss: 4.3090 Eval Loss: 3.6932\n",
      "Iteration 370000, Train Loss: 4.3369 Eval Loss: 3.6938\n",
      "Iteration 371000, Train Loss: 4.5885 Eval Loss: 3.6922\n",
      "Iteration 372000, Train Loss: 4.7538 Eval Loss: 3.6921\n",
      "Iteration 373000, Train Loss: 4.6227 Eval Loss: 3.6914\n",
      "Iteration 374000, Train Loss: 4.6687 Eval Loss: 3.6905\n",
      "Iteration 375000, Train Loss: 4.2357 Eval Loss: 3.6926\n",
      "Iteration 376000, Train Loss: 4.2423 Eval Loss: 3.6923\n",
      "Iteration 377000, Train Loss: 4.5744 Eval Loss: 3.6906\n",
      "Iteration 378000, Train Loss: 4.1961 Eval Loss: 3.6893\n",
      "Iteration 379000, Train Loss: 4.0491 Eval Loss: 3.6904\n",
      "Iteration 380000, Train Loss: 4.3182 Eval Loss: 3.6894\n",
      "Iteration 381000, Train Loss: 4.2129 Eval Loss: 3.6895\n",
      "Iteration 382000, Train Loss: 4.4409 Eval Loss: 3.6892\n",
      "Iteration 383000, Train Loss: 4.4916 Eval Loss: 3.6897\n",
      "Iteration 384000, Train Loss: 4.4472 Eval Loss: 3.6886\n",
      "Iteration 385000, Train Loss: 3.5651 Eval Loss: 3.6886\n",
      "Iteration 386000, Train Loss: 4.2142 Eval Loss: 3.6909\n",
      "Iteration 387000, Train Loss: 4.4438 Eval Loss: 3.6886\n",
      "Iteration 388000, Train Loss: 4.3292 Eval Loss: 3.6911\n",
      "Iteration 389000, Train Loss: 4.4676 Eval Loss: 3.6891\n",
      "Iteration 390000, Train Loss: 4.4358 Eval Loss: 3.6901\n",
      "Iteration 391000, Train Loss: 4.1806 Eval Loss: 3.6888\n",
      "Iteration 392000, Train Loss: 3.8798 Eval Loss: 3.6893\n",
      "Iteration 393000, Train Loss: 4.4039 Eval Loss: 3.6857\n",
      "Iteration 394000, Train Loss: 4.3823 Eval Loss: 3.6874\n",
      "Iteration 395000, Train Loss: 3.9715 Eval Loss: 3.6870\n",
      "Iteration 396000, Train Loss: 4.1780 Eval Loss: 3.6882\n",
      "Iteration 397000, Train Loss: 4.1918 Eval Loss: 3.6847\n",
      "Iteration 398000, Train Loss: 4.1002 Eval Loss: 3.6876\n",
      "Iteration 399000, Train Loss: 3.9527 Eval Loss: 3.6878\n",
      "Iteration 400000, Train Loss: 4.5237 Eval Loss: 3.6849\n",
      "Iteration 401000, Train Loss: 4.0403 Eval Loss: 3.6865\n",
      "Iteration 402000, Train Loss: 4.6226 Eval Loss: 3.6832\n",
      "Iteration 403000, Train Loss: 4.1827 Eval Loss: 3.6869\n",
      "Iteration 404000, Train Loss: 4.3155 Eval Loss: 3.6851\n",
      "Iteration 405000, Train Loss: 4.0224 Eval Loss: 3.6858\n",
      "Iteration 406000, Train Loss: 3.8033 Eval Loss: 3.6834\n",
      "Iteration 407000, Train Loss: 4.2003 Eval Loss: 3.6852\n",
      "Iteration 408000, Train Loss: 4.2189 Eval Loss: 3.6849\n",
      "Iteration 409000, Train Loss: 4.7232 Eval Loss: 3.6859\n",
      "Iteration 410000, Train Loss: 4.4210 Eval Loss: 3.6849\n",
      "Iteration 411000, Train Loss: 4.4183 Eval Loss: 3.6845\n",
      "Iteration 412000, Train Loss: 4.2634 Eval Loss: 3.6843\n",
      "Iteration 413000, Train Loss: 4.3104 Eval Loss: 3.6829\n",
      "Iteration 414000, Train Loss: 4.9010 Eval Loss: 3.6815\n",
      "Iteration 415000, Train Loss: 4.4205 Eval Loss: 3.6844\n",
      "Iteration 416000, Train Loss: 4.6915 Eval Loss: 3.6830\n",
      "Iteration 417000, Train Loss: 4.4172 Eval Loss: 3.6840\n",
      "Iteration 418000, Train Loss: 4.2143 Eval Loss: 3.6841\n",
      "Iteration 419000, Train Loss: 4.0568 Eval Loss: 3.6836\n",
      "Iteration 420000, Train Loss: 4.4901 Eval Loss: 3.6820\n",
      "Iteration 421000, Train Loss: 3.9485 Eval Loss: 3.6836\n",
      "Iteration 422000, Train Loss: 4.6397 Eval Loss: 3.6820\n",
      "Iteration 423000, Train Loss: 4.0311 Eval Loss: 3.6838\n",
      "Iteration 424000, Train Loss: 4.2473 Eval Loss: 3.6808\n",
      "Iteration 425000, Train Loss: 4.1944 Eval Loss: 3.6819\n",
      "Iteration 426000, Train Loss: 4.0334 Eval Loss: 3.6812\n",
      "Iteration 427000, Train Loss: 4.0531 Eval Loss: 3.6815\n",
      "Iteration 428000, Train Loss: 3.9951 Eval Loss: 3.6804\n",
      "Iteration 429000, Train Loss: 3.8682 Eval Loss: 3.6811\n",
      "Iteration 430000, Train Loss: 4.3112 Eval Loss: 3.6791\n",
      "Iteration 431000, Train Loss: 4.8776 Eval Loss: 3.6819\n",
      "Iteration 432000, Train Loss: 4.9003 Eval Loss: 3.6790\n",
      "Iteration 433000, Train Loss: 4.8546 Eval Loss: 3.6800\n",
      "Iteration 434000, Train Loss: 4.1610 Eval Loss: 3.6811\n",
      "Iteration 435000, Train Loss: 4.3980 Eval Loss: 3.6806\n",
      "Iteration 436000, Train Loss: 4.1451 Eval Loss: 3.6786\n",
      "Iteration 437000, Train Loss: 4.8526 Eval Loss: 3.6820\n",
      "Iteration 438000, Train Loss: 4.5248 Eval Loss: 3.6785\n",
      "Iteration 439000, Train Loss: 4.3506 Eval Loss: 3.6789\n",
      "Iteration 440000, Train Loss: 4.1040 Eval Loss: 3.6783\n",
      "Iteration 441000, Train Loss: 4.1170 Eval Loss: 3.6793\n",
      "Iteration 442000, Train Loss: 4.3477 Eval Loss: 3.6775\n",
      "Iteration 443000, Train Loss: 4.8090 Eval Loss: 3.6794\n",
      "Iteration 444000, Train Loss: 3.7139 Eval Loss: 3.6776\n",
      "Iteration 445000, Train Loss: 3.9448 Eval Loss: 3.6789\n",
      "Iteration 446000, Train Loss: 3.9075 Eval Loss: 3.6775\n",
      "Iteration 447000, Train Loss: 4.2983 Eval Loss: 3.6758\n",
      "Iteration 448000, Train Loss: 4.4547 Eval Loss: 3.6782\n",
      "Iteration 449000, Train Loss: 4.5663 Eval Loss: 3.6770\n",
      "Iteration 450000, Train Loss: 4.2166 Eval Loss: 3.6770\n",
      "Iteration 451000, Train Loss: 4.4318 Eval Loss: 3.6756\n",
      "Iteration 452000, Train Loss: 4.3135 Eval Loss: 3.6771\n",
      "Iteration 453000, Train Loss: 4.0592 Eval Loss: 3.6778\n",
      "Iteration 454000, Train Loss: 4.2644 Eval Loss: 3.6752\n",
      "Iteration 455000, Train Loss: 4.7757 Eval Loss: 3.6768\n",
      "Iteration 456000, Train Loss: 4.0205 Eval Loss: 3.6749\n",
      "Iteration 457000, Train Loss: 4.2677 Eval Loss: 3.6745\n",
      "Iteration 458000, Train Loss: 4.0552 Eval Loss: 3.6735\n",
      "Iteration 459000, Train Loss: 4.3383 Eval Loss: 3.6755\n",
      "Iteration 460000, Train Loss: 4.1281 Eval Loss: 3.6750\n",
      "Iteration 461000, Train Loss: 4.4939 Eval Loss: 3.6749\n",
      "Iteration 462000, Train Loss: 4.7456 Eval Loss: 3.6754\n",
      "Iteration 463000, Train Loss: 4.0020 Eval Loss: 3.6749\n",
      "Iteration 464000, Train Loss: 4.0403 Eval Loss: 3.6742\n",
      "Iteration 465000, Train Loss: 3.9851 Eval Loss: 3.6750\n",
      "Iteration 466000, Train Loss: 4.1871 Eval Loss: 3.6755\n",
      "Iteration 467000, Train Loss: 4.0995 Eval Loss: 3.6735\n",
      "Iteration 468000, Train Loss: 4.3051 Eval Loss: 3.6754\n",
      "Iteration 469000, Train Loss: 4.0142 Eval Loss: 3.6743\n",
      "Iteration 470000, Train Loss: 4.0041 Eval Loss: 3.6723\n",
      "Iteration 471000, Train Loss: 4.5649 Eval Loss: 3.6727\n",
      "Iteration 472000, Train Loss: 4.0168 Eval Loss: 3.6753\n",
      "Iteration 473000, Train Loss: 4.3389 Eval Loss: 3.6720\n",
      "Iteration 474000, Train Loss: 3.7311 Eval Loss: 3.6722\n",
      "Iteration 475000, Train Loss: 4.5793 Eval Loss: 3.6715\n",
      "Iteration 476000, Train Loss: 3.9610 Eval Loss: 3.6721\n",
      "Iteration 477000, Train Loss: 4.1647 Eval Loss: 3.6725\n",
      "Iteration 478000, Train Loss: 4.3246 Eval Loss: 3.6748\n",
      "Iteration 479000, Train Loss: 4.4851 Eval Loss: 3.6718\n",
      "Iteration 480000, Train Loss: 4.6837 Eval Loss: 3.6705\n",
      "Iteration 481000, Train Loss: 4.6890 Eval Loss: 3.6708\n",
      "Iteration 482000, Train Loss: 4.2132 Eval Loss: 3.6736\n",
      "Iteration 483000, Train Loss: 5.0810 Eval Loss: 3.6769\n",
      "Iteration 484000, Train Loss: 4.6698 Eval Loss: 3.6721\n",
      "Iteration 485000, Train Loss: 4.6764 Eval Loss: 3.6727\n",
      "Iteration 486000, Train Loss: 4.7965 Eval Loss: 3.6708\n",
      "Iteration 487000, Train Loss: 4.2963 Eval Loss: 3.6706\n",
      "Iteration 488000, Train Loss: 4.0700 Eval Loss: 3.6693\n",
      "Iteration 489000, Train Loss: 4.1755 Eval Loss: 3.6698\n",
      "Iteration 490000, Train Loss: 4.5873 Eval Loss: 3.6700\n",
      "Iteration 491000, Train Loss: 4.7804 Eval Loss: 3.6717\n",
      "Iteration 492000, Train Loss: 4.3447 Eval Loss: 3.6738\n",
      "Iteration 493000, Train Loss: 4.1587 Eval Loss: 3.6705\n",
      "Iteration 494000, Train Loss: 4.2344 Eval Loss: 3.6706\n",
      "Iteration 495000, Train Loss: 4.4759 Eval Loss: 3.6720\n",
      "Iteration 496000, Train Loss: 4.7147 Eval Loss: 3.6707\n",
      "Iteration 497000, Train Loss: 4.3096 Eval Loss: 3.6700\n",
      "Iteration 498000, Train Loss: 4.4472 Eval Loss: 3.6727\n",
      "Iteration 499000, Train Loss: 4.2862 Eval Loss: 3.6697\n",
      "Iteration 500000, Train Loss: 4.2479 Eval Loss: 3.6673\n"
     ]
    }
   ],
   "source": [
    "solver(model_name=\"bigram\")"
   ]
  },
  {
   "cell_type": "markdown",
   "metadata": {},
   "source": [
    "### Train and Valid Plots"
   ]
  },
  {
   "cell_type": "code",
   "execution_count": 10,
   "metadata": {},
   "outputs": [
    {
     "data": {
      "image/png": "[encoded data removed]",
      "text/plain": [
       "<Figure size 1000x500 with 1 Axes>"
      ]
     },
     "metadata": {},
     "output_type": "display_data"
    }
   ],
   "source": [
    "import pandas as pd\n",
    "import matplotlib.pyplot as plt\n",
    "\n",
    "def plot_loss_curves(train_loss_path, eval_loss_path, log_interval=100, save_path=None):\n",
    "    \"\"\"\n",
    "    Plots training and validation loss curves from exported CSV files.\n",
    "    \"\"\"\n",
    "\n",
    "    train_df = pd.read_csv(train_loss_path)\n",
    "    eval_df = pd.read_csv(eval_loss_path)\n",
    "\n",
    "    train_steps = train_df[\"Step\"] * log_interval\n",
    "    eval_steps = eval_df[\"Step\"] * log_interval\n",
    "\n",
    "    train_loss = train_df.iloc[:, 1].astype(float)\n",
    "    eval_loss = eval_df.iloc[:, 1].astype(float)\n",
    "    \n",
    "    plt.figure(figsize=(10, 5))\n",
    "    plt.plot(train_steps, train_loss, label=\"Train Loss\", linewidth=2)\n",
    "    plt.plot(eval_steps, eval_loss, label=\"Validation Loss\", linewidth=2)\n",
    "    plt.xlabel(\"Steps\")\n",
    "    plt.ylabel(\"Loss\")\n",
    "    plt.title(\"Training and Validation Loss\")\n",
    "    plt.legend()\n",
    "    plt.grid(True)\n",
    "    plt.tight_layout()\n",
    "\n",
    "    if save_path:\n",
    "        plt.savefig(save_path)\n",
    "        print(f\"Plot saved to {save_path}\")\n",
    "    else:\n",
    "        plt.show()\n",
    "\n",
    "train_loss_path = \"models/bigram/wandb_export_Bigram_train.csv\"\n",
    "eval_loss_path = \"models/bigram/wandb_export_Bigram_eval.csv\"\n",
    "plot_loss_curves(train_loss_path, eval_loss_path, 1000)"
   ]
  },
  {
   "cell_type": "markdown",
   "metadata": {},
   "source": [
    "### Generation (2.5 points)\n",
    "\n",
    "Complete the code in the `generate` method of the Bigram class and generate a mini story using the trained Bigram language model. The model will take in the previous word index and output the next word index.\n",
    "\n",
    "Start with the following seed sentence: \n",
    "    \n",
    "    `\"once upon a time\"`\n",
    "    "
   ]
  },
  {
   "cell_type": "code",
   "execution_count": 13,
   "metadata": {},
   "outputs": [
    {
     "name": "stderr",
     "output_type": "stream",
     "text": [
      "C:\\Users\\lyuch\\AppData\\Local\\Temp\\ipykernel_46028\\1940206365.py:5: FutureWarning: You are using `torch.load` with `weights_only=False` (the current default value), which uses the default pickle module implicitly. It is possible to construct malicious pickle data which will execute arbitrary code during unpickling (See https://github.com/pytorch/pytorch/blob/main/SECURITY.md#untrusted-models for more details). In a future release, the default value for `weights_only` will be flipped to `True`. This limits the functions that could be executed during unpickling. Arbitrary objects will no longer be allowed to be loaded via this mode unless they are explicitly allowlisted by the user via `torch.serialization.add_safe_globals`. We recommend you start setting `weights_only=True` for any use case where you don't have full control of the loaded file. Please open an issue on GitHub for any issues related to this experimental feature.\n",
      "  model.load_state_dict(torch.load(model_path)[\"model_state_dict\"])\n"
     ]
    },
    {
     "data": {
      "text/plain": [
       "<All keys matched successfully>"
      ]
     },
     "execution_count": 13,
     "metadata": {},
     "output_type": "execute_result"
    }
   ],
   "source": [
    "# TODO: Specify the path to your trained model\n",
    "model_path = \"models/bigram/best_model.pt\"\n",
    "model = BigramLanguageModel(BigramConfig)\n",
    "tokenizer = tiktoken.get_encoding(\"gpt2\")\n",
    "model.load_state_dict(torch.load(model_path)[\"model_state_dict\"])"
   ]
  },
  {
   "cell_type": "code",
   "execution_count": 14,
   "metadata": {},
   "outputs": [
    {
     "name": "stdout",
     "output_type": "stream",
     "text": [
      "Generating text starting with: torch.Size([4])\n",
      "Once upon a time, Lily runs away from the newspaper and design new diary for bed with his friend tried to make a piece of leaves to her stuck in a lady took Snowy mean and used her new flowers and have fun in the boat could be safe.\" So, you, strong. Inside, Mike as new toy sadly byies. cream, it, and their animals. Anna and found a loud noise. He did not like one our meeting some surprise for his wing.Tim was a ride his mom Tim was ashamed again.Once upon a cat hug on, \"Hi, she stopped size and get his fruits and made sure they stayed together. One day and point busy. Lily. You should be too. They run and her.\" The bird was no asks. The mother's play and a little bunny felt bad girl named Max looked for his head. Lily.Once upon a hole and said. Mittens.Tom looked at all! Let me fall asleep were very hole. From that Lily says. A\n"
     ]
    }
   ],
   "source": [
    "model.to(device)\n",
    "gen_sent = \"Once upon a time\"\n",
    "gen_tokens = torch.tensor(tokenizer.encode(gen_sent))\n",
    "print(\"Generating text starting with:\", gen_tokens.shape)\n",
    "gen_tokens = gen_tokens.to(device)\n",
    "model.eval()\n",
    "print(\n",
    "    tokenizer.decode(\n",
    "        model.generate(gen_tokens, max_new_tokens=200).squeeze().tolist()\n",
    "    )\n",
    ")"
   ]
  },
  {
   "cell_type": "markdown",
   "metadata": {},
   "source": [
    "### Observation and Analysis\n",
    "\n",
    "Please answer the following questions. \n",
    "\n",
    "1. What can we say about the generated text in terms of grammar and coherence? \n",
    "2. What are the limitations of the Bigram language model?\n",
    "3. If the model is scaled with more parameters do you expect the bigram model to get substantially better? Why or why not?"
   ]
  },
  {
   "cell_type": "markdown",
   "metadata": {},
   "source": [
    "1. The generated text consists mainly of syntactically broken phrases and lacks semantic flow and logical consistency.\n",
    "2. The context length of one token dictates that bigram language model cannot take into account global grammatical and semantic structures and generate high-quality sentences.\n",
    "3. No, its performance is limited to generation based on one-token context."
   ]
  },
  {
   "cell_type": "markdown",
   "metadata": {},
   "source": [
    "## Mini GPT (90 points)\n",
    "\n",
    "We will implement a decoder style transformer model like we discussed in lecture, which is a scaled down version of the [GPT model](https://cdn.openai.com/research-covers/language-unsupervised/language_understanding_paper.pdf). \n",
    "\n",
    "All the model components follow directly from the original [Attention is All You Need](https://arxiv.org/abs/1706.03762) paper. The only difference is we will use prenormalization and learnt positional embeddings instead of fixed ones.\n",
    "\n",
    "We will now implement each layer step by step checking if it is implemented correctly in the process. We will finally put together all our layers to get a fully fledged GPT model. \n",
    "\n",
    "<span style=\"color:red\">Later layers might depend on previous layers so please make sure to check the previous layers before moving on to the next one.</span>"
   ]
  },
  {
   "cell_type": "markdown",
   "metadata": {},
   "source": [
    "### Single Head Causal Attention (20 points)\n",
    "\n",
    "We will first implement the single head causal attention layer. This layer is the same as the scaled dot product attention layer but with a causal mask to prevent the model from looking into the future.\n",
    "\n",
    "Recall that Each head has a Key, Query and Value Matrix and the scaled dot product attention is calculated as : \n",
    "\n",
    "\\begin{equation}\n",
    "\\text{Attention}(Q, K, V) = \\text{softmax}\\left(\\frac{QK^T}{\\sqrt{d_k}}\\right)V\n",
    "\\end{equation}\n",
    "\n",
    "where $d_k$ is the dimension of the key matrix.\n",
    "\n",
    "Figure below from the original paper shows how the layer is to be implemented.\n",
    "\n",
    "![image](./Images/Single_Head.png)\n",
    "\n",
    "Image credits: [Attention is All You Need Paper](https://arxiv.org/abs/1706.03762)"
   ]
  },
  {
   "cell_type": "markdown",
   "metadata": {},
   "source": [
    "Please complete the `SingleHeadAttention` class in `model.py`"
   ]
  },
  {
   "cell_type": "code",
   "execution_count": 10,
   "metadata": {},
   "outputs": [
    {
     "name": "stderr",
     "output_type": "stream",
     "text": [
      "c:\\UCLA\\239_DeepLearning2\\Project3\\Project3_skeleton\\tests.py:14: FutureWarning: You are using `torch.load` with `weights_only=False` (the current default value), which uses the default pickle module implicitly. It is possible to construct malicious pickle data which will execute arbitrary code during unpickling (See https://github.com/pytorch/pytorch/blob/main/SECURITY.md#untrusted-models for more details). In a future release, the default value for `weights_only` will be flipped to `True`. This limits the functions that could be executed during unpickling. Arbitrary objects will no longer be allowed to be loaded via this mode unless they are explicitly allowlisted by the user via `torch.serialization.add_safe_globals`. We recommend you start setting `weights_only=True` for any use case where you don't have full control of the loaded file. Please open an issue on GitHub for any issues related to this experimental feature.\n",
      "  ckpt = torch.load(checkpoint_file, map_location=device)\n"
     ]
    },
    {
     "data": {
      "text/plain": [
       "'TEST CASE PASSED!!!'"
      ]
     },
     "execution_count": 10,
     "metadata": {},
     "output_type": "execute_result"
    }
   ],
   "source": [
    "model = SingleHeadAttention(MiniGPTConfig.embed_dim, MiniGPTConfig.embed_dim//4, MiniGPTConfig.embed_dim//4) # configs are set as such for testing do not modify\n",
    "tests.check_singleheadattention(model, path_to_gpt_tester, device)"
   ]
  },
  {
   "cell_type": "markdown",
   "metadata": {},
   "source": [
    "### Multi Head Attention (10 points)\n",
    "\n",
    "Now that we have a single head working, we will now scale this across multiple heads, remember that with multihead attention we compute perform head number of parallel attention operations. We then concatenate the outputs of these parallel attention operations and project them back to the desired dimension using an output linear layer.\n",
    "\n",
    "Figure below from the original paper shows how the layer is to be implemented.\n",
    "\n",
    "![image](./Images/MultiHead.png)\n",
    "\n",
    "Image credits: [Attention is All You Need Paper](https://arxiv.org/abs/1706.03762)"
   ]
  },
  {
   "cell_type": "markdown",
   "metadata": {},
   "source": [
    "Please complete the `MultiHeadAttention` class in `model.py` using the `SingleHeadAttention` class implemented earlier. "
   ]
  },
  {
   "cell_type": "code",
   "execution_count": 11,
   "metadata": {},
   "outputs": [
    {
     "name": "stderr",
     "output_type": "stream",
     "text": [
      "c:\\UCLA\\239_DeepLearning2\\Project3\\Project3_skeleton\\tests.py:55: FutureWarning: You are using `torch.load` with `weights_only=False` (the current default value), which uses the default pickle module implicitly. It is possible to construct malicious pickle data which will execute arbitrary code during unpickling (See https://github.com/pytorch/pytorch/blob/main/SECURITY.md#untrusted-models for more details). In a future release, the default value for `weights_only` will be flipped to `True`. This limits the functions that could be executed during unpickling. Arbitrary objects will no longer be allowed to be loaded via this mode unless they are explicitly allowlisted by the user via `torch.serialization.add_safe_globals`. We recommend you start setting `weights_only=True` for any use case where you don't have full control of the loaded file. Please open an issue on GitHub for any issues related to this experimental feature.\n",
      "  ckpt = torch.load(checkpoint_file, map_location=device)\n"
     ]
    },
    {
     "data": {
      "text/plain": [
       "'TEST CASE PASSED!!!'"
      ]
     },
     "execution_count": 11,
     "metadata": {},
     "output_type": "execute_result"
    }
   ],
   "source": [
    "model = MultiHeadAttention(MiniGPTConfig.embed_dim, MiniGPTConfig.num_heads)\n",
    "tests.check_multiheadattention(model, path_to_gpt_tester, device)"
   ]
  },
  {
   "cell_type": "markdown",
   "metadata": {},
   "source": [
    "### Feed Forward Layer (5 points)\n",
    "\n",
    "As discussed in lecture, the attention layer is completely linear, in order to add some non-linearity we add a feed forward layer. The feed forward layer is a simple two layer MLP with a GeLU activation in between.\n",
    "\n",
    "Please complete the `FeedForwardLayer` class in `model.py`"
   ]
  },
  {
   "cell_type": "code",
   "execution_count": 12,
   "metadata": {},
   "outputs": [
    {
     "name": "stderr",
     "output_type": "stream",
     "text": [
      "c:\\UCLA\\239_DeepLearning2\\Project3\\Project3_skeleton\\tests.py:160: FutureWarning: You are using `torch.load` with `weights_only=False` (the current default value), which uses the default pickle module implicitly. It is possible to construct malicious pickle data which will execute arbitrary code during unpickling (See https://github.com/pytorch/pytorch/blob/main/SECURITY.md#untrusted-models for more details). In a future release, the default value for `weights_only` will be flipped to `True`. This limits the functions that could be executed during unpickling. Arbitrary objects will no longer be allowed to be loaded via this mode unless they are explicitly allowlisted by the user via `torch.serialization.add_safe_globals`. We recommend you start setting `weights_only=True` for any use case where you don't have full control of the loaded file. Please open an issue on GitHub for any issues related to this experimental feature.\n",
      "  ckpt = torch.load(checkpoint_file, map_location=device)\n"
     ]
    },
    {
     "data": {
      "text/plain": [
       "'TEST CASE PASSED!!!'"
      ]
     },
     "execution_count": 12,
     "metadata": {},
     "output_type": "execute_result"
    }
   ],
   "source": [
    "model = FeedForwardLayer(MiniGPTConfig.embed_dim)\n",
    "tests.check_feedforward(model, path_to_gpt_tester, device)"
   ]
  },
  {
   "cell_type": "markdown",
   "metadata": {},
   "source": [
    "### LayerNorm (10 points)\n",
    "\n",
    "We will now implement the layer normalization layer. Layernorm is used across the model to normalize the activations of the previous layer. Recall that the equation for layernorm is given as:\n",
    "\n",
    "\\begin{equation}\n",
    "\n",
    "\\text{LayerNorm}(x) = \\frac{x - \\mu}{\\sqrt{\\sigma^2 + \\epsilon}} \\odot \\gamma + \\beta\n",
    "\n",
    "\\end{equation}\n",
    "\n",
    "With the learnable parameters $\\gamma$ and $\\beta$. \n",
    "\n",
    "Remember that unlike batchnorm we compute statistics across the feature dimension and not the batch dimension, hence we do not need to keep track of running averages."
   ]
  },
  {
   "cell_type": "markdown",
   "metadata": {},
   "source": [
    "Please complete the `LayerNorm` class in `model.py`"
   ]
  },
  {
   "cell_type": "code",
   "execution_count": 13,
   "metadata": {},
   "outputs": [
    {
     "name": "stderr",
     "output_type": "stream",
     "text": [
      "c:\\UCLA\\239_DeepLearning2\\Project3\\Project3_skeleton\\tests.py:196: FutureWarning: You are using `torch.load` with `weights_only=False` (the current default value), which uses the default pickle module implicitly. It is possible to construct malicious pickle data which will execute arbitrary code during unpickling (See https://github.com/pytorch/pytorch/blob/main/SECURITY.md#untrusted-models for more details). In a future release, the default value for `weights_only` will be flipped to `True`. This limits the functions that could be executed during unpickling. Arbitrary objects will no longer be allowed to be loaded via this mode unless they are explicitly allowlisted by the user via `torch.serialization.add_safe_globals`. We recommend you start setting `weights_only=True` for any use case where you don't have full control of the loaded file. Please open an issue on GitHub for any issues related to this experimental feature.\n",
      "  ckpt = torch.load(checkpoint_file, map_location=device)\n"
     ]
    },
    {
     "data": {
      "text/plain": [
       "'TEST CASE PASSED!!!'"
      ]
     },
     "execution_count": 13,
     "metadata": {},
     "output_type": "execute_result"
    }
   ],
   "source": [
    "model = LayerNorm(MiniGPTConfig.embed_dim)\n",
    "tests.check_layernorm(model, path_to_gpt_tester, device)"
   ]
  },
  {
   "cell_type": "markdown",
   "metadata": {},
   "source": [
    "### Transformer Layer (15 points)\n",
    "\n",
    "We have now implemented all the components of the transformer layer. We will now put it all together to create a transformer layer. The transformer layer consists of a multi head attention layer, a feed forward layer and two layer norm layers.\n",
    "\n",
    "Please use the following order for each component (Varies slightly from the original attention paper):\n",
    "1. LayerNorm\n",
    "2. MultiHeadAttention\n",
    "3. LayerNorm\n",
    "4. FeedForwardLayer\n",
    "\n",
    "Remember that the transformer layer also has residual connections around each sublayer.\n",
    "\n",
    "The below figure shows the structure of the transformer layer you are required to implement.\n",
    "\n",
    "![prenorm_transformer](./Images/Prenorm.png)\n",
    "\n",
    "Image Credit : [CogView](https://arxiv.org/pdf/2105.13290)"
   ]
  },
  {
   "cell_type": "markdown",
   "metadata": {},
   "source": [
    "Implement the `TransformerLayer` class in `model.py`"
   ]
  },
  {
   "cell_type": "code",
   "execution_count": 14,
   "metadata": {},
   "outputs": [
    {
     "name": "stderr",
     "output_type": "stream",
     "text": [
      "c:\\UCLA\\239_DeepLearning2\\Project3\\Project3_skeleton\\tests.py:243: FutureWarning: You are using `torch.load` with `weights_only=False` (the current default value), which uses the default pickle module implicitly. It is possible to construct malicious pickle data which will execute arbitrary code during unpickling (See https://github.com/pytorch/pytorch/blob/main/SECURITY.md#untrusted-models for more details). In a future release, the default value for `weights_only` will be flipped to `True`. This limits the functions that could be executed during unpickling. Arbitrary objects will no longer be allowed to be loaded via this mode unless they are explicitly allowlisted by the user via `torch.serialization.add_safe_globals`. We recommend you start setting `weights_only=True` for any use case where you don't have full control of the loaded file. Please open an issue on GitHub for any issues related to this experimental feature.\n",
      "  ckpt = torch.load(checkpoint_file, map_location=\"cpu\")\n"
     ]
    },
    {
     "data": {
      "text/plain": [
       "'TEST CASE PASSED!!!'"
      ]
     },
     "execution_count": 14,
     "metadata": {},
     "output_type": "execute_result"
    }
   ],
   "source": [
    "model =  TransformerLayer(MiniGPTConfig.embed_dim, MiniGPTConfig.num_heads)\n",
    "tests.check_transformer(model, path_to_gpt_tester, device)"
   ]
  },
  {
   "cell_type": "markdown",
   "metadata": {},
   "source": [
    "### Putting it all together : MiniGPT (15 points)\n",
    "\n",
    "We are now ready to put all our layers together to build our own MiniGPT! \n",
    "\n",
    "The MiniGPT model consists of an embedding layer, a positional encoding layer and a stack of transformer layers. The output of the transformer layer is passed through a linear layer (called head) to get the final output logits. Note that in our implementation we will use [weight tying](https://arxiv.org/abs/1608.05859) between the embedding layer and the final linear layer. This allows us to save on parameters and also helps in training."
   ]
  },
  {
   "cell_type": "markdown",
   "metadata": {},
   "source": [
    "Implement the `MiniGPT` class in `model.py`"
   ]
  },
  {
   "cell_type": "code",
   "execution_count": 15,
   "metadata": {},
   "outputs": [
    {
     "name": "stderr",
     "output_type": "stream",
     "text": [
      "c:\\UCLA\\239_DeepLearning2\\Project3\\Project3_skeleton\\tests.py:222: FutureWarning: You are using `torch.load` with `weights_only=False` (the current default value), which uses the default pickle module implicitly. It is possible to construct malicious pickle data which will execute arbitrary code during unpickling (See https://github.com/pytorch/pytorch/blob/main/SECURITY.md#untrusted-models for more details). In a future release, the default value for `weights_only` will be flipped to `True`. This limits the functions that could be executed during unpickling. Arbitrary objects will no longer be allowed to be loaded via this mode unless they are explicitly allowlisted by the user via `torch.serialization.add_safe_globals`. We recommend you start setting `weights_only=True` for any use case where you don't have full control of the loaded file. Please open an issue on GitHub for any issues related to this experimental feature.\n",
      "  ckpt = torch.load(checkpoint_file, map_location=device)\n"
     ]
    },
    {
     "data": {
      "text/plain": [
       "'TEST CASE PASSED!!!'"
      ]
     },
     "execution_count": 15,
     "metadata": {},
     "output_type": "execute_result"
    }
   ],
   "source": [
    "model = MiniGPT(MiniGPTConfig)\n",
    "tests.check_miniGPT(model, path_to_gpt_tester, device)"
   ]
  },
  {
   "cell_type": "markdown",
   "metadata": {},
   "source": [
    "### Attempt at training the model (5 points)\n",
    "\n",
    "We will now attempt to train the model on the text data. We will use the same text data as before. If needed, you can scale down the model parameters in the config file to a smaller value to make training feasible. \n",
    "\n",
    "Use the same training script we built for the Bigram model to train the MiniGPT model. If you implemented it correctly it should work just out of the box!\n",
    "\n",
    "**NOTE** : We will not be able to train the model to completion in this assignment. Unfortunately, without access to a relatively powerful GPU, training a large enough model to see good generation is not feasible. However, you should be able to see the loss decreasing over time. <span style=\"color:red\">To get full points for this section it is sufficient to show that the loss is decreasing over time</span>. You do not need to run this for more than 5000 iterations or 1 hour of training."
   ]
  },
  {
   "cell_type": "code",
   "execution_count": 10,
   "metadata": {},
   "outputs": [],
   "source": [
    "from train import solver"
   ]
  },
  {
   "cell_type": "code",
   "execution_count": null,
   "metadata": {},
   "outputs": [
    {
     "name": "stdout",
     "output_type": "stream",
     "text": [
      "number of trainable parameters: 3.37M\n"
     ]
    },
    {
     "name": "stderr",
     "output_type": "stream",
     "text": [
      "\u001b[34m\u001b[1mwandb\u001b[0m: Currently logged in as: \u001b[33mlyuchenandy\u001b[0m (\u001b[33mlyuchenandy-ucla\u001b[0m) to \u001b[32mhttps://api.wandb.ai\u001b[0m. Use \u001b[1m`wandb login --relogin`\u001b[0m to force relogin\n"
     ]
    },
    {
     "data": {
      "text/html": [
       "Tracking run with wandb version 0.19.11"
      ],
      "text/plain": [
       "<IPython.core.display.HTML object>"
      ]
     },
     "metadata": {},
     "output_type": "display_data"
    },
    {
     "data": {
      "text/html": [
       "Run data is saved locally in <code>c:\\UCLA\\239_DeepLearning2\\Project3\\Project3_skeleton\\wandb\\run-20250517_120218-96icqc5g</code>"
      ],
      "text/plain": [
       "<IPython.core.display.HTML object>"
      ]
     },
     "metadata": {},
     "output_type": "display_data"
    },
    {
     "data": {
      "text/html": [
       "Syncing run <strong><a href='https://wandb.ai/lyuchenandy-ucla/dl2_proj3/runs/96icqc5g' target=\"_blank\">fragrant-yogurt-48</a></strong> to <a href='https://wandb.ai/lyuchenandy-ucla/dl2_proj3' target=\"_blank\">Weights & Biases</a> (<a href='https://wandb.me/developer-guide' target=\"_blank\">docs</a>)<br>"
      ],
      "text/plain": [
       "<IPython.core.display.HTML object>"
      ]
     },
     "metadata": {},
     "output_type": "display_data"
    },
    {
     "data": {
      "text/html": [
       " View project at <a href='https://wandb.ai/lyuchenandy-ucla/dl2_proj3' target=\"_blank\">https://wandb.ai/lyuchenandy-ucla/dl2_proj3</a>"
      ],
      "text/plain": [
       "<IPython.core.display.HTML object>"
      ]
     },
     "metadata": {},
     "output_type": "display_data"
    },
    {
     "data": {
      "text/html": [
       " View run at <a href='https://wandb.ai/lyuchenandy-ucla/dl2_proj3/runs/96icqc5g' target=\"_blank\">https://wandb.ai/lyuchenandy-ucla/dl2_proj3/runs/96icqc5g</a>"
      ],
      "text/plain": [
       "<IPython.core.display.HTML object>"
      ]
     },
     "metadata": {},
     "output_type": "display_data"
    },
    {
     "name": "stdout",
     "output_type": "stream",
     "text": [
      "Iteration 0, Train Loss: 10.8279 Eval Loss: 10.8029\n",
      "Iteration 100, Train Loss: 7.6714 Eval Loss: 7.7505\n",
      "Iteration 200, Train Loss: 6.2209 Eval Loss: 6.1925\n",
      "Iteration 300, Train Loss: 5.8830 Eval Loss: 5.9332\n",
      "Iteration 400, Train Loss: 5.6771 Eval Loss: 5.7530\n",
      "Iteration 500, Train Loss: 5.5775 Eval Loss: 5.5280\n",
      "Iteration 600, Train Loss: 5.0712 Eval Loss: 5.3026\n",
      "Iteration 700, Train Loss: 5.1411 Eval Loss: 5.1027\n",
      "Iteration 800, Train Loss: 4.9632 Eval Loss: 4.9439\n",
      "Iteration 900, Train Loss: 4.8608 Eval Loss: 4.8144\n",
      "Iteration 1000, Train Loss: 4.7731 Eval Loss: 4.7211\n",
      "Iteration 1100, Train Loss: 4.9623 Eval Loss: 4.6484\n",
      "Iteration 1200, Train Loss: 4.4955 Eval Loss: 4.5960\n",
      "Iteration 1300, Train Loss: 4.6311 Eval Loss: 4.5528\n",
      "Iteration 1400, Train Loss: 4.7171 Eval Loss: 4.5251\n",
      "Iteration 1500, Train Loss: 4.6932 Eval Loss: 4.5031\n",
      "Iteration 1600, Train Loss: 4.3416 Eval Loss: 4.4868\n",
      "Iteration 1700, Train Loss: 4.7082 Eval Loss: 4.4770\n",
      "Iteration 1800, Train Loss: 4.6495 Eval Loss: 4.4743\n",
      "Iteration 1900, Train Loss: 4.8616 Eval Loss: 4.4706\n",
      "Iteration 2000, Train Loss: 4.7808 Eval Loss: 4.4708\n",
      "Iteration 2100, Train Loss: 4.5527 Eval Loss: 4.4002\n",
      "Iteration 2200, Train Loss: 4.4988 Eval Loss: 4.3159\n",
      "Iteration 2300, Train Loss: 4.2930 Eval Loss: 4.2540\n",
      "Iteration 2400, Train Loss: 4.2043 Eval Loss: 4.1990\n",
      "Iteration 2500, Train Loss: 4.3938 Eval Loss: 4.1409\n",
      "Iteration 2600, Train Loss: 4.4443 Eval Loss: 4.1045\n",
      "Iteration 2700, Train Loss: 4.1248 Eval Loss: 4.0579\n",
      "Iteration 2800, Train Loss: 4.1659 Eval Loss: 4.0238\n",
      "Iteration 2900, Train Loss: 4.1726 Eval Loss: 3.9921\n",
      "Iteration 3000, Train Loss: 4.1343 Eval Loss: 3.9689\n",
      "Iteration 3100, Train Loss: 3.8349 Eval Loss: 3.9413\n",
      "Iteration 3200, Train Loss: 3.6051 Eval Loss: 3.9145\n",
      "Iteration 3300, Train Loss: 3.8338 Eval Loss: 3.8955\n",
      "Iteration 3400, Train Loss: 4.0419 Eval Loss: 3.8780\n",
      "Iteration 3500, Train Loss: 3.7879 Eval Loss: 3.8533\n",
      "Iteration 3600, Train Loss: 3.9088 Eval Loss: 3.8387\n",
      "Iteration 3700, Train Loss: 3.8987 Eval Loss: 3.8248\n",
      "Iteration 3800, Train Loss: 4.2616 Eval Loss: 3.8089\n",
      "Iteration 3900, Train Loss: 3.8499 Eval Loss: 3.7980\n",
      "Iteration 4000, Train Loss: 4.0200 Eval Loss: 3.7821\n",
      "Iteration 4100, Train Loss: 3.6314 Eval Loss: 3.7726\n",
      "Iteration 4200, Train Loss: 3.8757 Eval Loss: 3.7634\n",
      "Iteration 4300, Train Loss: 3.5139 Eval Loss: 3.7541\n",
      "Iteration 4400, Train Loss: 3.9055 Eval Loss: 3.7463\n",
      "Iteration 4500, Train Loss: 3.5722 Eval Loss: 3.7373\n",
      "Iteration 4600, Train Loss: 3.7040 Eval Loss: 3.7328\n",
      "Iteration 4700, Train Loss: 4.1385 Eval Loss: 3.7263\n",
      "Iteration 4800, Train Loss: 4.0777 Eval Loss: 3.7201\n",
      "Iteration 4900, Train Loss: 3.5450 Eval Loss: 3.7154\n",
      "Iteration 5000, Train Loss: 3.9277 Eval Loss: 3.7122\n"
     ]
    }
   ],
   "source": [
    "solver(model_name=\"minigpt\")\n",
    "# Multihead Attn - 7.2 iter/hr\n",
    "# Parallelized Multihead Attn - 750 iter/hr"
   ]
  },
  {
   "cell_type": "markdown",
   "metadata": {},
   "source": [
    "### Train and Valid Plots"
   ]
  },
  {
   "cell_type": "code",
   "execution_count": 34,
   "metadata": {},
   "outputs": [
    {
     "data": {
      "image/png": "[encoded data removed]",
      "text/plain": [
       "<Figure size 1000x500 with 1 Axes>"
      ]
     },
     "metadata": {},
     "output_type": "display_data"
    }
   ],
   "source": [
    "train_loss_path = \"models/minigpt/wandb_export_2025-05-15_MiniGPT_base_train.csv\"\n",
    "eval_loss_path = \"models/minigpt/wandb_export_2025-05-15_MiniGPT_base_eval.csv\"\n",
    "\n",
    "plot_loss_curves(train_loss_path, eval_loss_path, 1000)\n"
   ]
  },
  {
   "cell_type": "markdown",
   "metadata": {},
   "source": [
    "### Generation (5 points)\n",
    "\n",
    "\n",
    "Perform generation with the MiniGPT model that you trained. After that, copy over the generation function you used for the Bigram model and generate a mini story using the same seed sentence. \n",
    "\n",
    "    `\"once upon a time\"`"
   ]
  },
  {
   "cell_type": "code",
   "execution_count": 26,
   "metadata": {},
   "outputs": [
    {
     "name": "stderr",
     "output_type": "stream",
     "text": [
      "C:\\Users\\lyuch\\AppData\\Local\\Temp\\ipykernel_26676\\880734549.py:6: FutureWarning: You are using `torch.load` with `weights_only=False` (the current default value), which uses the default pickle module implicitly. It is possible to construct malicious pickle data which will execute arbitrary code during unpickling (See https://github.com/pytorch/pytorch/blob/main/SECURITY.md#untrusted-models for more details). In a future release, the default value for `weights_only` will be flipped to `True`. This limits the functions that could be executed during unpickling. Arbitrary objects will no longer be allowed to be loaded via this mode unless they are explicitly allowlisted by the user via `torch.serialization.add_safe_globals`. We recommend you start setting `weights_only=True` for any use case where you don't have full control of the loaded file. Please open an issue on GitHub for any issues related to this experimental feature.\n",
      "  model.load_state_dict(torch.load(model_path)[\"model_state_dict\"])\n"
     ]
    },
    {
     "data": {
      "text/plain": [
       "<All keys matched successfully>"
      ]
     },
     "execution_count": 26,
     "metadata": {},
     "output_type": "execute_result"
    }
   ],
   "source": [
    "# TODO: Specify the path to your trained model\n",
    "model_path = \"models/minigpt/best_model.pt\" # base implementation - 5000 iters\n",
    "model_path = \"models/minigpt/best_model_parrallel.pt\" # trained using parallelized MHA - 32500 iters\n",
    "model = MiniGPT(MiniGPTConfig(num_layers=2, parallelHeads=True))\n",
    "tokenizer = tiktoken.get_encoding(\"gpt2\")\n",
    "model.load_state_dict(torch.load(model_path)[\"model_state_dict\"])"
   ]
  },
  {
   "cell_type": "code",
   "execution_count": 27,
   "metadata": {},
   "outputs": [
    {
     "name": "stdout",
     "output_type": "stream",
     "text": [
      "Generating text starting with: torch.Size([4])\n",
      "Once upon a time, there was a elderly dog named Tim found a new hug. They played some fun days together.Once upon a time, there was a small brother, Johnny, \"I'm sorry, too. They think even though right for what the lion use.\n",
      "Roves were ruining them. He put on the tail. But his mom told them to say! I am so badly and now he said, \"Do you want to touch him pick him up up and showed Bob back to how Timmy their toys because they found a nightmare. He wanted to count. Lily was safe and busy. Tim made good friends and spent eaten a big river. They learned that her lesson forgot about school puzzles. Timmy loved Whiskers. The dog and the dog. One day, Sammy heard a wish and lockedzo. Jack and Ben smiles. She says. \"It is an important day.Once upon a time, there was a big weird man named Sue. Sam loved to paw. One day\n"
     ]
    }
   ],
   "source": [
    "model.to(device)\n",
    "gen_sent = \"Once upon a time\"\n",
    "gen_tokens = torch.tensor(tokenizer.encode(gen_sent))\n",
    "print(\"Generating text starting with:\", gen_tokens.shape)\n",
    "gen_tokens = gen_tokens.to(device)\n",
    "model.eval()\n",
    "print(\n",
    "    tokenizer.decode(\n",
    "        model.generate(gen_tokens, max_new_tokens=200).squeeze().tolist()\n",
    "    )\n",
    ")"
   ]
  },
  {
   "cell_type": "markdown",
   "metadata": {},
   "source": [
    "Please answer the following questions. \n",
    "\n",
    "1. What can we say about the generated text in terms of grammar and coherence? \n",
    "2. If the model is scaled with more parameters do you expect the GPT model to get substantially better? Why or why not?\n",
    "\n",
    "\n"
   ]
  },
  {
   "cell_type": "markdown",
   "metadata": {},
   "source": [
    "1. The grammatical sturcture are often valid for phrases and short sentences. But the text lacks semantic meaning across sentences.\n",
    "2. Scaling up the model with more transformer layers, larger hidden sizes and more attention heads could improve the local coherence of generated text in a limited capacity. But substantial improvement is not expected given the simple architecture without an encoder and training scheme using a short context length."
   ]
  },
  {
   "cell_type": "markdown",
   "metadata": {},
   "source": [
    "### Scaling up the model (5 points)\n",
    "\n",
    "To show that scale indeed will help the model learn we have trained a scaled up version of the model you just implemented. We will load the weights of this model and generate a mini story using the same seed sentence. Note that if you have implemented the model correctly just scaling the parameters and adding a few bells and whistles to the training script will results in a model like the one we will load now. "
   ]
  },
  {
   "cell_type": "code",
   "execution_count": 11,
   "metadata": {},
   "outputs": [],
   "source": [
    "from model import MiniGPT\n",
    "from config import MiniGPTConfig"
   ]
  },
  {
   "cell_type": "code",
   "execution_count": 12,
   "metadata": {},
   "outputs": [],
   "source": [
    "path_to_trained_model = \"pretrained_models/best_train_loss_checkpoint.pth\""
   ]
  },
  {
   "cell_type": "code",
   "execution_count": 13,
   "metadata": {},
   "outputs": [
    {
     "name": "stderr",
     "output_type": "stream",
     "text": [
      "C:\\Users\\lyuch\\AppData\\Local\\Temp\\ipykernel_16940\\2544158094.py:1: FutureWarning: You are using `torch.load` with `weights_only=False` (the current default value), which uses the default pickle module implicitly. It is possible to construct malicious pickle data which will execute arbitrary code during unpickling (See https://github.com/pytorch/pytorch/blob/main/SECURITY.md#untrusted-models for more details). In a future release, the default value for `weights_only` will be flipped to `True`. This limits the functions that could be executed during unpickling. Arbitrary objects will no longer be allowed to be loaded via this mode unless they are explicitly allowlisted by the user via `torch.serialization.add_safe_globals`. We recommend you start setting `weights_only=True` for any use case where you don't have full control of the loaded file. Please open an issue on GitHub for any issues related to this experimental feature.\n",
      "  ckpt = torch.load(path_to_trained_model, map_location=device) # remove map location if using GPU\n"
     ]
    }
   ],
   "source": [
    "ckpt = torch.load(path_to_trained_model, map_location=device) # remove map location if using GPU"
   ]
  },
  {
   "cell_type": "code",
   "execution_count": 14,
   "metadata": {},
   "outputs": [],
   "source": [
    "# Set the configs for scaled model \n",
    "MiniGPTConfig.context_length = 512\n",
    "MiniGPTConfig.embed_dim = 256\n",
    "MiniGPTConfig.num_heads = 16\n",
    "MiniGPTConfig.num_layers = 8"
   ]
  },
  {
   "cell_type": "code",
   "execution_count": 15,
   "metadata": {},
   "outputs": [
    {
     "data": {
      "text/plain": [
       "<All keys matched successfully>"
      ]
     },
     "execution_count": 15,
     "metadata": {},
     "output_type": "execute_result"
    }
   ],
   "source": [
    "# Load model from checkpoint\n",
    "model = MiniGPT(MiniGPTConfig)\n",
    "model.load_state_dict(ckpt[\"model_state_dict\"])"
   ]
  },
  {
   "cell_type": "code",
   "execution_count": 16,
   "metadata": {},
   "outputs": [],
   "source": [
    "tokenizer = tiktoken.get_encoding(\"gpt2\")"
   ]
  },
  {
   "cell_type": "code",
   "execution_count": 19,
   "metadata": {},
   "outputs": [
    {
     "name": "stdout",
     "output_type": "stream",
     "text": [
      "Generating text starting with: torch.Size([4])\n",
      "Once upon a time, there was a little girl named Lily. She had a pretty dress and a hat. And that's how kind you prunes. And I can't talk like you. Come on, let's go home now.\" Other children joined in. They ran and jumped on best friends.Once upon a time, there was a baby who tried to relax and gaze at the flowers and make them beautiful.Once upon a time, there was an elderly man who lived on the other side of the park. They learned that it's important to be humble and kind to her friends. Lily felt proud of herself too. And she quietly got out and pecked at the carpet and laughed. Spot liked to play on the swings and the slide. They started running and bending. She felt like a real king, Amy, and her mom said it was time to end. The boy had done his homework and enjoyed his nap. From that day on, Lucy was very happy.\n",
      "At the party, Mia\n"
     ]
    }
   ],
   "source": [
    "model.to(device)\n",
    "gen_sent = \"Once upon a time\"\n",
    "gen_tokens = torch.tensor(tokenizer.encode(gen_sent))\n",
    "print(\"Generating text starting with:\", gen_tokens.shape)\n",
    "gen_tokens = gen_tokens.to(device)\n",
    "model.eval()\n",
    "print(\n",
    "    tokenizer.decode(\n",
    "        model.generate(gen_tokens, max_new_tokens=200).squeeze().tolist()\n",
    "    )\n",
    ")"
   ]
  },
  {
   "cell_type": "markdown",
   "metadata": {},
   "source": [
    "## Bonus (5 points)\n",
    "\n",
    "The following are some open ended questions that you can attempt if you have time. Feel free to propose your own as well if you have an interesting idea. \n",
    "\n",
    "1. The model we have implemented is a decoder only model. Can you implement the encoder part as well? This should not be too hard to do since most of the layers are already implemented.\n",
    "2. What are some improvements we can add to the training script to make training more efficient and faster? Can you concretely show that the improvements you made help in training the model better?\n",
    "3. Can you implement a beam search decoder to generate the text instead of greedy decoding? Does this help in generating better text?\n",
    "4. Can you further optimize the model architecture? For example, can you implement [Multi Query Attention](https://arxiv.org/abs/1911.02150) or [Grouped Query Attention](https://arxiv.org/pdf/2305.13245) to improve the model performance?"
   ]
  },
  {
   "cell_type": "markdown",
   "metadata": {},
   "source": [
    "### Optimizing Multi-Head Self Attention (1.7× Speedup on local machine for `num_heads=4`)\n",
    "\n",
    "In the standard `MultiHeadAttention` implementation, we loop over `H` attention heads and apply `SingleHeadAttention` **sequentially**—each operating on a projected subspace of dimension `head_dim`. While conceptually straightforward, this method is computationally inefficient due to redundant operations and lack of parallelism.\n",
    "\n",
    "To address this, I implemented an optimized version, **`ParallelMHA`**, which computes multi-head attention **in parallel** using efficient tensor operations.\n",
    "\n",
    "\n",
    "#### Notation\n",
    "\n",
    "**B**: batch size  \n",
    "**N**: context length  \n",
    "**H**: number of heads  \n",
    "**head_dim_kq**: `output_key_query_dim // H`  \n",
    "**head_dim_v**: `output_value_dim // H`\n",
    "Since output_key_query_dim = output_value_dim, **head_dim** = `key_query_val_dim // num_heads`\n",
    "\n",
    "\n",
    "#### `ParallelMHA` class\n",
    "\n",
    "1. **Unified Projection**  \n",
    "   Project the input tensor `(B, N, input_dim)` into query, key, and value matrices using a single `Linear` layer:  \n",
    "   Output shape: `(B, N, key_query_val_dim)`\n",
    "\n",
    "2. **Reshape for Multi-Head**  \n",
    "   Split the projected tensors across heads and reshape:  \n",
    "   `q, k → (B, N, H, head_dim_kq)`  \n",
    "   `v → (B, N, H, head_dim_v)`\n",
    "   Transpose the tensor dimensions into: \n",
    "   `(B, H, N, head_dim_kq)`\n",
    "   `(B, H, N, head_dim_v)`\n",
    "\n",
    "3. **Efficient Attention Computation**  \n",
    "   Compute attention scores via `q @ kᵀ`: `(B, H, N, N)` \n",
    "   Apply parallelized softmax over the last dimension, across the first two dimensions B and H. \n",
    "\n",
    "4. **Weighted Sum and Merge**  \n",
    "   Compute attention output: `attn_probs @ v → (B, H, N, head_dim_v)`\n",
    "   Transpose and reshape to combine heads:  \n",
    "     Final shape: `(B, N, output_value_dim)`\n",
    "\n",
    "This approach calculates the attention across each head simultaneously in one run.\n",
    "- **Performance**: ~1.7× speedup on my RTX 4060 compared to default implementation\n",
    "- **Configurable**:  \n",
    "  `config.py` includes a `parallelHeads` flag to toggle between the default `MultiHeadAttention` and the optimized `ParallelMHA`.\n"
   ]
  }
 ],
 "metadata": {
  "kernelspec": {
   "display_name": "emg2qwerty",
   "language": "python",
   "name": "python3"
  },
  "language_info": {
   "codemirror_mode": {
    "name": "ipython",
    "version": 3
   },
   "file_extension": ".py",
   "mimetype": "text/x-python",
   "name": "python",
   "nbconvert_exporter": "python",
   "pygments_lexer": "ipython3",
   "version": "3.10.13"
  }
 },
 "nbformat": 4,
 "nbformat_minor": 2
}
